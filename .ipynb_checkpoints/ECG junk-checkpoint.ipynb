{
 "cells": [
  {
   "cell_type": "code",
   "execution_count": 12,
   "id": "a4b25c8a",
   "metadata": {},
   "outputs": [],
   "source": [
    "import pandas as pd\n",
    "import numpy as np\n",
    "import wfdb\n",
    "import matplotlib.pyplot as plt\n",
    "from wfdb import processing\n",
    "import os\n",
    "import main"
   ]
  },
  {
   "cell_type": "code",
   "execution_count": null,
   "id": "bcc28eeb",
   "metadata": {},
   "outputs": [],
   "source": []
  },
  {
   "cell_type": "code",
   "execution_count": 13,
   "id": "f8045d7f",
   "metadata": {},
   "outputs": [],
   "source": [
    "# #computes average heart rate\n",
    "# def compute_heart_rate(record):\n",
    "#     qrs_locations = wfdb.processing.gqrs_detect(record.p_signal[:, 0], fs=record.fs)\n",
    "#     heart_rates = wfdb.processing.compute_hr(sig_len=record.sig_len, qrs_inds=qrs_locations, fs=record.fs)\n",
    "#     avg_heart_rate = 0\n",
    "#     no_of_relevant_heart_rates = 0\n",
    "\n",
    "#     for i in heart_rates:\n",
    "\n",
    "#         if not np.isnan(i):\n",
    "#             avg_heart_rate += i\n",
    "#             no_of_relevant_heart_rates += 1\n",
    "\n",
    "#     return avg_heart_rate / no_of_relevant_heart_rates\n",
    "\n",
    "# def retrieve_age(meta_data):\n",
    "#     age = meta_data['comments'][0].split(':')\n",
    "#     return age[1]\n",
    "\n",
    "\n",
    "# def retrieve_date(metadata):\n",
    "#     date = meta_data['comments'][2].split(':')\n",
    "#     return date[1]\n",
    "\n",
    "# def retrieve_sex(meta_date):\n",
    "#     sex = meta_data['comments'][1].split(':')\n",
    "#     return sex[1]"
   ]
  },
  {
   "cell_type": "code",
   "execution_count": 4,
   "id": "9286dea1",
   "metadata": {
    "scrolled": true
   },
   "outputs": [],
   "source": [
    "Path = '/Users/philipcroon/PycharmProjects/ECG/Physionet data/ecg-id-database-1.0.0/Person_01/'\n",
    "# record = wfdb.rdrecord(Path + '/rec_1', channels = [0])\n",
    "record = wfdb.rdrecord(Path + '/rec_1')"
   ]
  },
  {
   "cell_type": "code",
   "execution_count": 3,
   "id": "4b853412",
   "metadata": {},
   "outputs": [
    {
     "data": {
      "text/plain": [
       "{'fs': 500,\n",
       " 'sig_len': 10000,\n",
       " 'n_sig': 2,\n",
       " 'base_date': None,\n",
       " 'base_time': None,\n",
       " 'units': ['mV', 'mV'],\n",
       " 'sig_name': ['ECG I', 'ECG I filtered'],\n",
       " 'comments': ['Age: 25', 'Sex: male', 'ECG date: 07.12.2004']}"
      ]
     },
     "execution_count": 3,
     "metadata": {},
     "output_type": "execute_result"
    }
   ],
   "source": [
    "ecg_data, meta_data = wfdb.rdsamp(Path + '/rec_1')\n",
    "leads = meta_data['sig_name']\n",
    "meta_data\n",
    "# plot_ecg(leads, ecg_data, 'Example')"
   ]
  },
  {
   "cell_type": "code",
   "execution_count": 4,
   "id": "435ccea4",
   "metadata": {},
   "outputs": [],
   "source": [
    "# meta_data['comments'][0]\n"
   ]
  },
  {
   "cell_type": "code",
   "execution_count": 5,
   "id": "e872b75b",
   "metadata": {},
   "outputs": [],
   "source": [
    "# wfdb.plot_wfdb(record=record, title='Example signals', time_units='samples', figsize=(10, 4))\n",
    "# display(record.__dict__)"
   ]
  },
  {
   "cell_type": "code",
   "execution_count": 13,
   "id": "3c70d182",
   "metadata": {},
   "outputs": [
    {
     "ename": "NameError",
     "evalue": "name 'retrieve_age' is not defined",
     "output_type": "error",
     "traceback": [
      "\u001b[0;31m---------------------------------------------------------------------------\u001b[0m",
      "\u001b[0;31mNameError\u001b[0m                                 Traceback (most recent call last)",
      "Input \u001b[0;32mIn [13]\u001b[0m, in \u001b[0;36m<module>\u001b[0;34m\u001b[0m\n\u001b[1;32m      6\u001b[0m ecg_data, meta_data \u001b[38;5;241m=\u001b[39m wfdb\u001b[38;5;241m.\u001b[39mrdsamp(Path \u001b[38;5;241m+\u001b[39m os\u001b[38;5;241m.\u001b[39mpath\u001b[38;5;241m.\u001b[39msplitext(filename)[\u001b[38;5;241m0\u001b[39m])\n\u001b[1;32m      7\u001b[0m name \u001b[38;5;241m=\u001b[39m filename\u001b[38;5;241m.\u001b[39msplit(\u001b[38;5;124m'\u001b[39m\u001b[38;5;124m.\u001b[39m\u001b[38;5;124m'\u001b[39m)[\u001b[38;5;241m0\u001b[39m]\n\u001b[0;32m----> 9\u001b[0m age \u001b[38;5;241m=\u001b[39m \u001b[43mretrieve_age\u001b[49m(meta_data)\n\u001b[1;32m     10\u001b[0m sex \u001b[38;5;241m=\u001b[39m retrieve_sex(meta_data)\n\u001b[1;32m     11\u001b[0m date \u001b[38;5;241m=\u001b[39m retrieve_date(meta_data)\n",
      "\u001b[0;31mNameError\u001b[0m: name 'retrieve_age' is not defined"
     ]
    }
   ],
   "source": [
    "df = pd.DataFrame()\n",
    "\n",
    "for filename in os.listdir(Path):\n",
    "    if filename.endswith(\".dat\"):\n",
    "        record = wfdb.rdrecord(Path + os.path.splitext(filename)[0], channels = [0])\n",
    "        ecg_data, meta_data = wfdb.rdsamp(Path + os.path.splitext(filename)[0])\n",
    "        name = filename.split('.')[0]\n",
    "        \n",
    "        age = retrieve_age(meta_data)\n",
    "        sex = retrieve_sex(meta_data)\n",
    "        date = retrieve_date(meta_data)\n",
    "        heart_rate = compute_heart_rate(record)\n",
    "       \n",
    "        values = pd.DataFrame([[age, sex, date, heart_rate]],\n",
    "                   columns=['age', 'sex', 'date', 'heart_rate'], index = {name})\n",
    "        df = pd.concat([df, values])\n",
    "df"
   ]
  },
  {
   "cell_type": "code",
   "execution_count": null,
   "id": "26bc69dd",
   "metadata": {},
   "outputs": [],
   "source": []
  }
 ],
 "metadata": {
  "kernelspec": {
   "display_name": "Python 3 (ipykernel)",
   "language": "python",
   "name": "python3"
  },
  "language_info": {
   "codemirror_mode": {
    "name": "ipython",
    "version": 3
   },
   "file_extension": ".py",
   "mimetype": "text/x-python",
   "name": "python",
   "nbconvert_exporter": "python",
   "pygments_lexer": "ipython3",
   "version": "3.9.7"
  }
 },
 "nbformat": 4,
 "nbformat_minor": 5
}
